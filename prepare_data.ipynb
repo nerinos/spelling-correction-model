{
  "cells": [
    {
      "cell_type": "code",
      "execution_count": 2,
      "metadata": {
        "id": "6_U_zooYsLsO"
      },
      "outputs": [
        {
          "name": "stderr",
          "output_type": "stream",
          "text": [
            "/Library/Frameworks/Python.framework/Versions/3.10/lib/python3.10/site-packages/tqdm/auto.py:22: TqdmWarning: IProgress not found. Please update jupyter and ipywidgets. See https://ipywidgets.readthedocs.io/en/stable/user_install.html\n",
            "  from .autonotebook import tqdm as notebook_tqdm\n"
          ]
        }
      ],
      "source": [
        "import pandas as pd\n",
        "import json\n",
        "import pickle\n",
        "import re\n",
        "from tqdm.auto import tqdm"
      ]
    },
    {
      "cell_type": "markdown",
      "metadata": {},
      "source": [
        "## Читаем файл и достаём данные"
      ]
    },
    {
      "cell_type": "code",
      "execution_count": 241,
      "metadata": {},
      "outputs": [
        {
          "name": "stderr",
          "output_type": "stream",
          "text": [
            "579872it [00:44, 13079.43it/s]\n"
          ]
        },
        {
          "name": "stdout",
          "output_type": "stream",
          "text": [
            "Skipped with errors:  382\n"
          ]
        }
      ],
      "source": [
        "skipped = 0\n",
        "\n",
        "with open(\"lang-8-20111007-L1-v2.dat\") as fp:\n",
        "    records = []\n",
        "    for row, item in tqdm(enumerate(fp.readlines())):\n",
        "        try:\n",
        "            item = json.loads(item)\n",
        "        except Exception as e:\n",
        "            skipped += 1\n",
        "            continue\n",
        "        lang = item[2]\n",
        "        sentences = item[4]\n",
        "        corrections = item[5]\n",
        "        for sentence, correction in zip(sentences, corrections):\n",
        "            for corr in correction:\n",
        "                records.append(\n",
        "                    {\n",
        "                        'sentence': sentence,\n",
        "                        'correction': corr,\n",
        "                        'lang': lang,\n",
        "                    }\n",
        "                )\n",
        "\n",
        "    df = pd.DataFrame.from_records(records)\n",
        "    print(\"Skipped with errors: \", skipped)\n",
        "        \n"
      ]
    },
    {
      "cell_type": "markdown",
      "metadata": {},
      "source": [
        "## Удаление ненужных тегов и мусора"
      ]
    },
    {
      "cell_type": "code",
      "execution_count": 243,
      "metadata": {},
      "outputs": [],
      "source": [
        "# red - correction\n",
        "# blue - insertion\n",
        "# sline - removal\n",
        "# bold - bold\n",
        "def process(value):\n",
        "    pattern = r'(\\[sline\\](.+?)\\[\\/sline])|(\\[\\/?f-red\\])|(\\[\\/?f-blue\\])|(\\[\\/?f-bold\\])|(^[^а-яА-Я]*$)'\n",
        "    mod_string = re.sub(pattern, '', value)\n",
        "    pattern = r'(\\d+[.)])|(\\((.+?)\\))|(\\[(.+?)\\])'\n",
        "    mod_string = re.sub(pattern, '', mod_string)\n",
        "    return mod_string.strip()"
      ]
    },
    {
      "cell_type": "code",
      "execution_count": 300,
      "metadata": {},
      "outputs": [
        {
          "name": "stdout",
          "output_type": "stream",
          "text": [
            "63657\n"
          ]
        },
        {
          "name": "stderr",
          "output_type": "stream",
          "text": [
            "/var/folders/7c/871yz62n4qj1dv2ks686jn600000gn/T/ipykernel_10221/2496945782.py:12: UserWarning: This pattern is interpreted as a regular expression, and has match groups. To actually get the groups, use str.extract.\n",
            "  filter = russian_df['processed_correction'].str.contains(pattern_latin)\n"
          ]
        },
        {
          "name": "stdout",
          "output_type": "stream",
          "text": [
            "53478\n"
          ]
        },
        {
          "data": {
            "text/html": [
              "<div>\n",
              "<style scoped>\n",
              "    .dataframe tbody tr th:only-of-type {\n",
              "        vertical-align: middle;\n",
              "    }\n",
              "\n",
              "    .dataframe tbody tr th {\n",
              "        vertical-align: top;\n",
              "    }\n",
              "\n",
              "    .dataframe thead th {\n",
              "        text-align: right;\n",
              "    }\n",
              "</style>\n",
              "<table border=\"1\" class=\"dataframe\">\n",
              "  <thead>\n",
              "    <tr style=\"text-align: right;\">\n",
              "      <th></th>\n",
              "      <th>sentence</th>\n",
              "      <th>correction</th>\n",
              "      <th>lang</th>\n",
              "      <th>processed_correction</th>\n",
              "    </tr>\n",
              "  </thead>\n",
              "  <tbody>\n",
              "    <tr>\n",
              "      <th>0</th>\n",
              "      <td>Поскольку я уже сказал, на будущей неделе я по...</td>\n",
              "      <td>[f-blue]Как[/f-blue] я уже [f-blue]говорил[/f-...</td>\n",
              "      <td>Russian</td>\n",
              "      <td>Как я уже говорил , на будущей  неделе я поеду...</td>\n",
              "    </tr>\n",
              "    <tr>\n",
              "      <th>1</th>\n",
              "      <td>- я дам вам массаж</td>\n",
              "      <td>- я [f-red]сделаю[/f-red] вам массаж</td>\n",
              "      <td>Russian</td>\n",
              "      <td>- я сделаю вам массаж</td>\n",
              "    </tr>\n",
              "    <tr>\n",
              "      <th>2</th>\n",
              "      <td>Поэтому, я волновалась до того, как моя голова...</td>\n",
              "      <td>Поэтому, я волновалась до того, [f-red]что[/f-...</td>\n",
              "      <td>Russian</td>\n",
              "      <td>Поэтому, я волновалась до того, что моя голова...</td>\n",
              "    </tr>\n",
              "    <tr>\n",
              "      <th>3</th>\n",
              "      <td>В результате, у меня есть круглый, крупный живот.</td>\n",
              "      <td>[sline][f-blue][/f-blue][/sline][f-blue]Теперь...</td>\n",
              "      <td>Russian</td>\n",
              "      <td>Теперь у меня большой круглый живот.</td>\n",
              "    </tr>\n",
              "    <tr>\n",
              "      <th>4</th>\n",
              "      <td>Я не понимал все...</td>\n",
              "      <td>Я [f-bold]всё [/f-bold]не понимал [sline]все[/...</td>\n",
              "      <td>Russian</td>\n",
              "      <td>Я всё не понимал ...</td>\n",
              "    </tr>\n",
              "  </tbody>\n",
              "</table>\n",
              "</div>"
            ],
            "text/plain": [
              "                                            sentence  \\\n",
              "0  Поскольку я уже сказал, на будущей неделе я по...   \n",
              "1                                 - я дам вам массаж   \n",
              "2  Поэтому, я волновалась до того, как моя голова...   \n",
              "3  В результате, у меня есть круглый, крупный живот.   \n",
              "4                                Я не понимал все...   \n",
              "\n",
              "                                          correction     lang  \\\n",
              "0  [f-blue]Как[/f-blue] я уже [f-blue]говорил[/f-...  Russian   \n",
              "1               - я [f-red]сделаю[/f-red] вам массаж  Russian   \n",
              "2  Поэтому, я волновалась до того, [f-red]что[/f-...  Russian   \n",
              "3  [sline][f-blue][/f-blue][/sline][f-blue]Теперь...  Russian   \n",
              "4  Я [f-bold]всё [/f-bold]не понимал [sline]все[/...  Russian   \n",
              "\n",
              "                                processed_correction  \n",
              "0  Как я уже говорил , на будущей  неделе я поеду...  \n",
              "1                              - я сделаю вам массаж  \n",
              "2  Поэтому, я волновалась до того, что моя голова...  \n",
              "3               Теперь у меня большой круглый живот.  \n",
              "4                               Я всё не понимал ...  "
            ]
          },
          "execution_count": 300,
          "metadata": {},
          "output_type": "execute_result"
        }
      ],
      "source": [
        "russian_df = df[df['lang'] == 'Russian']\n",
        "print(len(russian_df))\n",
        "russian_df = russian_df.dropna().reset_index(drop=True)\n",
        "russian_df['processed_correction'] = russian_df['correction'].map(process)\n",
        "russian_df['sentence'] = russian_df['sentence'].map(process)\n",
        "patternDel = r\"^[^а-яА-Я]*$\"\n",
        "filter = russian_df['processed_correction'].str.contains(patternDel)\n",
        "russian_df = russian_df[~filter]\n",
        "filter = russian_df['sentence'].str.contains(patternDel)\n",
        "russian_df = russian_df[~filter]\n",
        "pattern_latin = r\"([a-zA-Z])\"\n",
        "filter = russian_df['processed_correction'].str.contains(pattern_latin)\n",
        "russian_df = russian_df[~filter]\n",
        "pattern_brackets = r\"[\\(\\)\\[\\]\\\\\\/]\"\n",
        "filter = russian_df['processed_correction'].str.contains(pattern_brackets)\n",
        "russian_df = russian_df[~filter]\n",
        "\n",
        "russian_df = russian_df[russian_df['sentence'] != russian_df['processed_correction']]\n",
        "nan_value = float(\"NaN\")\n",
        "russian_df.replace(\"\", nan_value, inplace=True)\n",
        "russian_df.dropna(subset = [\"processed_correction\"], inplace=True)\n",
        "russian_df.reset_index(inplace=True, drop=True)\n",
        "print(len(russian_df))\n",
        "russian_df = russian_df.sample(frac=1).reset_index(drop=True)\n",
        "russian_df.head()"
      ]
    },
    {
      "cell_type": "code",
      "execution_count": 301,
      "metadata": {},
      "outputs": [
        {
          "name": "stdout",
          "output_type": "stream",
          "text": [
            "0\n",
            "0.0\n"
          ]
        }
      ],
      "source": [
        "pattern_not_russian = r\"[\\\\\\/]\"\n",
        "filter = russian_df['processed_correction'].str.contains(pattern_not_russian)\n",
        "print(len(russian_df[filter]))\n",
        "print(len(russian_df[filter]) / len(russian_df))\n",
        "russian_df = russian_df[~filter]\n"
      ]
    },
    {
      "cell_type": "code",
      "execution_count": 310,
      "metadata": {},
      "outputs": [
        {
          "data": {
            "text/html": [
              "<div>\n",
              "<style scoped>\n",
              "    .dataframe tbody tr th:only-of-type {\n",
              "        vertical-align: middle;\n",
              "    }\n",
              "\n",
              "    .dataframe tbody tr th {\n",
              "        vertical-align: top;\n",
              "    }\n",
              "\n",
              "    .dataframe thead th {\n",
              "        text-align: right;\n",
              "    }\n",
              "</style>\n",
              "<table border=\"1\" class=\"dataframe\">\n",
              "  <thead>\n",
              "    <tr style=\"text-align: right;\">\n",
              "      <th></th>\n",
              "      <th>sentence</th>\n",
              "      <th>correction</th>\n",
              "      <th>lang</th>\n",
              "      <th>processed_correction</th>\n",
              "    </tr>\n",
              "  </thead>\n",
              "  <tbody>\n",
              "    <tr>\n",
              "      <th>2876</th>\n",
              "      <td>Виза должна прийти у меня завтра  В ответ на о...</td>\n",
              "      <td>Виза должна прийти [f-blue]мне[/f-blue] завтра...</td>\n",
              "      <td>Russian</td>\n",
              "      <td>Виза должна прийти мне завтра  В ответ на один...</td>\n",
              "    </tr>\n",
              "    <tr>\n",
              "      <th>40634</th>\n",
              "      <td>Думаю, что важно поговорить о всём, включая пр...</td>\n",
              "      <td>Важно говорить о всём, включая проблемы. Но не...</td>\n",
              "      <td>Russian</td>\n",
              "      <td>Важно говорить о всём, включая проблемы. Но не...</td>\n",
              "    </tr>\n",
              "    <tr>\n",
              "      <th>19638</th>\n",
              "      <td>У меня \"АР\" Японцкий оцмотр ча четверт.</td>\n",
              "      <td>У меня АР, [f-blue]экзамен по японскому[/f-blu...</td>\n",
              "      <td>Russian</td>\n",
              "      <td>У меня АР, экзамен по японскому в четверг.</td>\n",
              "    </tr>\n",
              "    <tr>\n",
              "      <th>43548</th>\n",
              "      <td>Вы:..</td>\n",
              "      <td>Вы:.. А у меня гуманитарное образование. Сейча...</td>\n",
              "      <td>Russian</td>\n",
              "      <td>Вы:.. А у меня гуманитарное образование. Сейча...</td>\n",
              "    </tr>\n",
              "    <tr>\n",
              "      <th>35495</th>\n",
              "      <td>Недавно я обнаружил, что в Кобе есть русский к...</td>\n",
              "      <td>Недавно я обнаружил, что в Кобе есть русский [...</td>\n",
              "      <td>Russian</td>\n",
              "      <td>Недавно я обнаружил, что в Кобе есть русский б...</td>\n",
              "    </tr>\n",
              "  </tbody>\n",
              "</table>\n",
              "</div>"
            ],
            "text/plain": [
              "                                                sentence  \\\n",
              "2876   Виза должна прийти у меня завтра  В ответ на о...   \n",
              "40634  Думаю, что важно поговорить о всём, включая пр...   \n",
              "19638            У меня \"АР\" Японцкий оцмотр ча четверт.   \n",
              "43548                                              Вы:..   \n",
              "35495  Недавно я обнаружил, что в Кобе есть русский к...   \n",
              "\n",
              "                                              correction     lang  \\\n",
              "2876   Виза должна прийти [f-blue]мне[/f-blue] завтра...  Russian   \n",
              "40634  Важно говорить о всём, включая проблемы. Но не...  Russian   \n",
              "19638  У меня АР, [f-blue]экзамен по японскому[/f-blu...  Russian   \n",
              "43548  Вы:.. А у меня гуманитарное образование. Сейча...  Russian   \n",
              "35495  Недавно я обнаружил, что в Кобе есть русский [...  Russian   \n",
              "\n",
              "                                    processed_correction  \n",
              "2876   Виза должна прийти мне завтра  В ответ на один...  \n",
              "40634  Важно говорить о всём, включая проблемы. Но не...  \n",
              "19638         У меня АР, экзамен по японскому в четверг.  \n",
              "43548  Вы:.. А у меня гуманитарное образование. Сейча...  \n",
              "35495  Недавно я обнаружил, что в Кобе есть русский б...  "
            ]
          },
          "execution_count": 310,
          "metadata": {},
          "output_type": "execute_result"
        }
      ],
      "source": [
        "# russian_df = russian_df.reset_index()\n",
        "# del russian_df['index']\n",
        "# del russian_df['lang']\n",
        "russian_df.sample(5)"
      ]
    },
    {
      "cell_type": "code",
      "execution_count": 311,
      "metadata": {},
      "outputs": [
        {
          "name": "stdout",
          "output_type": "stream",
          "text": [
            "СИЛНО устал!\n",
            "СИЛ[f-blue]Ь[/f-blue]НО устал!\n",
            "СИЛЬНО устал!\n"
          ]
        }
      ],
      "source": [
        "index = 1824\n",
        "print(russian_df['sentence'].iloc[index])\n",
        "print(russian_df['correction'].iloc[index])\n",
        "print(russian_df['processed_correction'].iloc[index])"
      ]
    },
    {
      "cell_type": "code",
      "execution_count": 312,
      "metadata": {},
      "outputs": [
        {
          "name": "stdout",
          "output_type": "stream",
          "text": [
            "<class 'pandas.core.frame.DataFrame'>\n",
            "Int64Index: 53478 entries, 0 to 53477\n",
            "Data columns (total 4 columns):\n",
            " #   Column                Non-Null Count  Dtype \n",
            "---  ------                --------------  ----- \n",
            " 0   sentence              53478 non-null  object\n",
            " 1   correction            53478 non-null  object\n",
            " 2   lang                  53478 non-null  object\n",
            " 3   processed_correction  53478 non-null  object\n",
            "dtypes: object(4)\n",
            "memory usage: 2.0+ MB\n"
          ]
        }
      ],
      "source": [
        "russian_df.info()"
      ]
    },
    {
      "cell_type": "code",
      "execution_count": 313,
      "metadata": {},
      "outputs": [],
      "source": [
        "russian_df.to_csv('russian_gec_dataset_lang8.csv', sep=';', encoding=\"UTF-8\", index=False)"
      ]
    },
    {
      "cell_type": "markdown",
      "metadata": {},
      "source": []
    },
    {
      "cell_type": "code",
      "execution_count": 3,
      "metadata": {
        "id": "yNoBms8usLsr"
      },
      "outputs": [
        {
          "data": {
            "text/html": [
              "<div>\n",
              "<style scoped>\n",
              "    .dataframe tbody tr th:only-of-type {\n",
              "        vertical-align: middle;\n",
              "    }\n",
              "\n",
              "    .dataframe tbody tr th {\n",
              "        vertical-align: top;\n",
              "    }\n",
              "\n",
              "    .dataframe thead th {\n",
              "        text-align: right;\n",
              "    }\n",
              "</style>\n",
              "<table border=\"1\" class=\"dataframe\">\n",
              "  <thead>\n",
              "    <tr style=\"text-align: right;\">\n",
              "      <th></th>\n",
              "      <th>sentence</th>\n",
              "      <th>correction</th>\n",
              "      <th>lang</th>\n",
              "      <th>processed_correction</th>\n",
              "    </tr>\n",
              "  </thead>\n",
              "  <tbody>\n",
              "    <tr>\n",
              "      <th>0</th>\n",
              "      <td>Поскольку я уже сказал, на будущей неделе я по...</td>\n",
              "      <td>[f-blue]Как[/f-blue] я уже [f-blue]говорил[/f-...</td>\n",
              "      <td>Russian</td>\n",
              "      <td>Как я уже говорил , на будущей  неделе я поеду...</td>\n",
              "    </tr>\n",
              "    <tr>\n",
              "      <th>1</th>\n",
              "      <td>- я дам вам массаж</td>\n",
              "      <td>- я [f-red]сделаю[/f-red] вам массаж</td>\n",
              "      <td>Russian</td>\n",
              "      <td>- я сделаю вам массаж</td>\n",
              "    </tr>\n",
              "    <tr>\n",
              "      <th>2</th>\n",
              "      <td>Поэтому, я волновалась до того, как моя голова...</td>\n",
              "      <td>Поэтому, я волновалась до того, [f-red]что[/f-...</td>\n",
              "      <td>Russian</td>\n",
              "      <td>Поэтому, я волновалась до того, что моя голова...</td>\n",
              "    </tr>\n",
              "    <tr>\n",
              "      <th>3</th>\n",
              "      <td>В результате, у меня есть круглый, крупный живот.</td>\n",
              "      <td>[sline][f-blue][/f-blue][/sline][f-blue]Теперь...</td>\n",
              "      <td>Russian</td>\n",
              "      <td>Теперь у меня большой круглый живот.</td>\n",
              "    </tr>\n",
              "    <tr>\n",
              "      <th>4</th>\n",
              "      <td>Я не понимал все...</td>\n",
              "      <td>Я [f-bold]всё [/f-bold]не понимал [sline]все[/...</td>\n",
              "      <td>Russian</td>\n",
              "      <td>Я всё не понимал ...</td>\n",
              "    </tr>\n",
              "  </tbody>\n",
              "</table>\n",
              "</div>"
            ],
            "text/plain": [
              "                                            sentence  \\\n",
              "0  Поскольку я уже сказал, на будущей неделе я по...   \n",
              "1                                 - я дам вам массаж   \n",
              "2  Поэтому, я волновалась до того, как моя голова...   \n",
              "3  В результате, у меня есть круглый, крупный живот.   \n",
              "4                                Я не понимал все...   \n",
              "\n",
              "                                          correction     lang  \\\n",
              "0  [f-blue]Как[/f-blue] я уже [f-blue]говорил[/f-...  Russian   \n",
              "1               - я [f-red]сделаю[/f-red] вам массаж  Russian   \n",
              "2  Поэтому, я волновалась до того, [f-red]что[/f-...  Russian   \n",
              "3  [sline][f-blue][/f-blue][/sline][f-blue]Теперь...  Russian   \n",
              "4  Я [f-bold]всё [/f-bold]не понимал [sline]все[/...  Russian   \n",
              "\n",
              "                                processed_correction  \n",
              "0  Как я уже говорил , на будущей  неделе я поеду...  \n",
              "1                              - я сделаю вам массаж  \n",
              "2  Поэтому, я волновалась до того, что моя голова...  \n",
              "3               Теперь у меня большой круглый живот.  \n",
              "4                               Я всё не понимал ...  "
            ]
          },
          "execution_count": 3,
          "metadata": {},
          "output_type": "execute_result"
        }
      ],
      "source": [
        "data = pd.read_csv('russian_gec_dataset_lang8.csv', sep=';', encoding=\"UTF-8\")\n",
        "data.head(5)"
      ]
    },
    {
      "cell_type": "code",
      "execution_count": null,
      "metadata": {},
      "outputs": [],
      "source": []
    }
  ],
  "metadata": {
    "colab": {
      "collapsed_sections": [],
      "name": "prepare_data.ipynb",
      "provenance": []
    },
    "kernelspec": {
      "display_name": "Python 3",
      "name": "python3"
    },
    "language_info": {
      "codemirror_mode": {
        "name": "ipython",
        "version": 3
      },
      "file_extension": ".py",
      "mimetype": "text/x-python",
      "name": "python",
      "nbconvert_exporter": "python",
      "pygments_lexer": "ipython3",
      "version": "3.10.1"
    },
    "orig_nbformat": 2
  },
  "nbformat": 4,
  "nbformat_minor": 0
}
